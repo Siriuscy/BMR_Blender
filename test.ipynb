{
 "cells": [
  {
   "cell_type": "code",
   "execution_count": 9,
   "metadata": {},
   "outputs": [
    {
     "data": {
      "text/plain": [
       "{'Coat': 'cloth',\n",
       " 'clothes': 'cloth',\n",
       " 'jacket': 'cloth',\n",
       " 'pants': 'cloth',\n",
       " 'T-shirt': 'cloth',\n",
       " 'ties': 'cloth'}"
      ]
     },
     "execution_count": 9,
     "metadata": {},
     "output_type": "execute_result"
    }
   ],
   "source": [
    "import yaml\n",
    "data=yaml.load(open('conf.yml','r'),Loader=yaml.FullLoader)[\"muti_material\"]\n",
    "data"
   ]
  },
  {
   "cell_type": "code",
   "execution_count": 8,
   "metadata": {},
   "outputs": [
    {
     "data": {
      "text/plain": [
       "'Coat:cloth clothes:cloth jacket:cloth pants:cloth T-shirt:cloth ties:cloth'"
      ]
     },
     "execution_count": 8,
     "metadata": {},
     "output_type": "execute_result"
    }
   ],
   "source": [
    "data"
   ]
  },
  {
   "cell_type": "code",
   "execution_count": 15,
   "metadata": {},
   "outputs": [
    {
     "data": {
      "text/plain": [
       "'abcdefghijklmnopqrstuvwxyzABCDEFGHIJKLMNOPQRSTUVWXYZ'"
      ]
     },
     "execution_count": 15,
     "metadata": {},
     "output_type": "execute_result"
    }
   ],
   "source": [
    "import string\n",
    "EN_STR=string.ascii_lowercase+string.ascii_uppercase\n",
    "EN_STR"
   ]
  },
  {
   "cell_type": "code",
   "execution_count": 38,
   "metadata": {},
   "outputs": [
    {
     "data": {
      "text/plain": [
       "[[{'a': {'if': True, 'else': False}}, {'b': {'if': True, 'else': False}}],\n",
       " [{'c': {'if': True, 'else': False}}, {'d': {'if': True, 'else': False}}]]"
      ]
     },
     "execution_count": 38,
     "metadata": {},
     "output_type": "execute_result"
    }
   ],
   "source": [
    "a=[[{\"a\":{\"if\":True,\"else\":False}},{\"b\":{\"if\":True,\"else\":False}}],[{\"c\":{\"if\":True,\"else\":False}},{\"d\":{\"if\":True,\"else\":False}}]]\n",
    "a"
   ]
  },
  {
   "cell_type": "code",
   "execution_count": 45,
   "metadata": {},
   "outputs": [],
   "source": [
    "a=[[{\"a\":{\"if\":True,\"else\":False}},{\"b\":{\"if\":True,\"else\":False}}],[{\"c\":{\"if\":True,\"else\":False}},{\"d\":{\"if\":True,\"else\":False}}]]\n",
    "# a={'a':'b'}\n",
    "with open('yaml_test.yaml', 'w') as out_file:\n",
    "    yaml.safe_dump(a, out_file,allow_unicode=False)\n"
   ]
  },
  {
   "cell_type": "code",
   "execution_count": 46,
   "metadata": {},
   "outputs": [
    {
     "data": {
      "text/plain": [
       "[[{'a': {'else': False, 'if': True}}, {'b': {'else': False, 'if': True}}],\n",
       " [{'c': {'else': False, 'if': True}}, {'d': {'else': False, 'if': True}}]]"
      ]
     },
     "execution_count": 46,
     "metadata": {},
     "output_type": "execute_result"
    }
   ],
   "source": [
    "with open('yaml_test.yaml', 'r') as out_file:\n",
    "    a=yaml.load(out_file,Loader=yaml.FullLoader)\n",
    "a"
   ]
  },
  {
   "cell_type": "code",
   "execution_count": 48,
   "metadata": {},
   "outputs": [
    {
     "data": {
      "text/plain": [
       "2442"
      ]
     },
     "execution_count": 48,
     "metadata": {},
     "output_type": "execute_result"
    }
   ],
   "source": [
    "len(\"0601060#00601060##00601060#00601060##00601060#00601060##00601060#00601060##10601060#00601060##00601060#00601060##00601060#00601060##00601060#00601060##00601060#00601060##00601060#00601060##00601060#00601060##00601060#00601060##10601060#00601060##00601060#00601060##00601060#00601060##00601060#00601060###00601060#00601060##00601060#00601060##00601060#00601060##00601060#00601060##10601060#00601060##00601060#00601060##00601060#00601060##00601060#00601060##00601060#00601060##00601060#00601060##00601060#00601060##00601060#00601060##10601060#00601060##00601060#00601060##00601060#00601060##00601060#00601060###10601060#00601060##00601060#00601060##00601060#00601060##00601060#00601060##10601060#00601060##00601060#00601060##00601060#00601060##00601060#00601060##00601060#00601060##00601060#00601060##00601060#00601060##00601060#00601060##10601060#00601060##00601060#00601060##00601060#00601060##00601060#00601060###00601060#00601060##00601060#00601060##00601060#00601060##00601060#00601060##10601060#00601060##00601060#00601060##00601060#00601060##00601060#00601060##00601060#00601060##00601060#00601060##00601060#00601060##00601060#00601060##10601060#00601060##00601060#00601060##00601060#00601060##00601060#00601060####00601060#00601060##00601060#00601060##00601060#00601060##00601060#00601060##10601060#00601060##00601060#00601060##00601060#00601060##00601060#00601060##00601060#00601060##00601060#00601060##00601060#00601060##00601060#00601060##10601060#00601060##00601060#00601060##00601060#00601060##00601060#00601060###00601060#00601060##00601060#00601060##00601060#00601060##00601060#00601060##10601060#00601060##00601060#00601060##00601060#00601060##00601060#00601060##00601060#00601060##00601060#00601060##00601060#00601060##00601060#00601060##10601060#00601060##00601060#00601060##00601060#00601060##00601060#00601060###10601060#00601060##00601060#00601060##00601060#00601060##00601060#00601060##10601060#00601060##00601060#00601060##00601060#00601060##00601060#00601060##00601060#00601060##00601060#00601060##00601060#00601060##00601060#00601060##10601060#00601060##00601060#00601060##00601060#00601060##00601060#00601060###00601060#00601060##00601060#00601060##00601060#00601060##00601060#00601060##10601060#00601060##00601060#00601060##00601060#00601060##00601060#00601060##00601060#00601060##00601060#00601060##00601060#00601060##00601060#00601060##10601060#00601060##00601060#00601060##00601060#00601060##00601060#00601060#####\")\n"
   ]
  },
  {
   "cell_type": "code",
   "execution_count": 60,
   "metadata": {},
   "outputs": [
    {
     "data": {
      "text/plain": [
       "dict_values([{'brain_01': 'glass_01', 'bull': 'metal_01'}])"
      ]
     },
     "execution_count": 60,
     "metadata": {},
     "output_type": "execute_result"
    }
   ],
   "source": [
    "a=yaml.load(open('./codes.yml','r'),Loader=yaml.FullLoader)\n",
    "a[0][1][0].values()\n"
   ]
  },
  {
   "cell_type": "code",
   "execution_count": 62,
   "metadata": {},
   "outputs": [
    {
     "data": {
      "text/plain": [
       "[4, 9, 10, 5, 2]"
      ]
     },
     "execution_count": 62,
     "metadata": {},
     "output_type": "execute_result"
    }
   ],
   "source": [
    "import random\n",
    "list = [1, 2, 3, 4, 5, 6, 7, 8, 9, 10] \n",
    "slice = random.sample(list, 5) \n",
    "slice"
   ]
  },
  {
   "cell_type": "code",
   "execution_count": 2,
   "metadata": {},
   "outputs": [],
   "source": [
    "import json"
   ]
  },
  {
   "cell_type": "code",
   "execution_count": 3,
   "metadata": {},
   "outputs": [],
   "source": [
    "multi_mat_file_dict=json.load(open('multi_mat_obj.json','r'))"
   ]
  },
  {
   "cell_type": "code",
   "execution_count": 7,
   "metadata": {},
   "outputs": [
    {
     "data": {
      "text/plain": [
       "[0,\n",
       " 1,\n",
       " 5,\n",
       " 6,\n",
       " 12,\n",
       " 14,\n",
       " 18,\n",
       " 19,\n",
       " 23,\n",
       " 24,\n",
       " 30,\n",
       " 32,\n",
       " 72,\n",
       " 85,\n",
       " 91,\n",
       " 93,\n",
       " 95,\n",
       " 104,\n",
       " 108,\n",
       " 112,\n",
       " 116,\n",
       " 119,\n",
       " 120,\n",
       " 125,\n",
       " 130,\n",
       " 131,\n",
       " 132,\n",
       " 133,\n",
       " 137,\n",
       " 138,\n",
       " 142,\n",
       " 143,\n",
       " 169,\n",
       " 172,\n",
       " 177,\n",
       " 178,\n",
       " 179,\n",
       " 180,\n",
       " 181,\n",
       " 182,\n",
       " 183,\n",
       " 184,\n",
       " 185,\n",
       " 189,\n",
       " 190,\n",
       " 191,\n",
       " 193,\n",
       " 205,\n",
       " 206,\n",
       " 207,\n",
       " 208,\n",
       " 216,\n",
       " 217,\n",
       " 218,\n",
       " 219,\n",
       " 220,\n",
       " 224,\n",
       " 225,\n",
       " 231,\n",
       " 238,\n",
       " 239,\n",
       " 241,\n",
       " 260,\n",
       " 261,\n",
       " 263,\n",
       " 282,\n",
       " 284,\n",
       " 286,\n",
       " 295,\n",
       " 299,\n",
       " 303,\n",
       " 307,\n",
       " 310,\n",
       " 311,\n",
       " 316,\n",
       " 321,\n",
       " 322,\n",
       " 323,\n",
       " 324,\n",
       " 328,\n",
       " 329,\n",
       " 333,\n",
       " 334,\n",
       " 360,\n",
       " 368,\n",
       " 369,\n",
       " 370,\n",
       " 371,\n",
       " 372,\n",
       " 373,\n",
       " 374,\n",
       " 375,\n",
       " 376,\n",
       " 380,\n",
       " 381,\n",
       " 382,\n",
       " 384,\n",
       " 396,\n",
       " 397,\n",
       " 398,\n",
       " 399,\n",
       " 407,\n",
       " 408,\n",
       " 409,\n",
       " 410,\n",
       " 411,\n",
       " 415,\n",
       " 416,\n",
       " 422,\n",
       " 423,\n",
       " 429,\n",
       " 430,\n",
       " 432,\n",
       " 451,\n",
       " 452,\n",
       " 715,\n",
       " 852,\n",
       " 857,\n",
       " 862,\n",
       " 864,\n",
       " 865,\n",
       " 866,\n",
       " 880,\n",
       " 898,\n",
       " 903,\n",
       " 905,\n",
       " 906,\n",
       " 907,\n",
       " 921]"
      ]
     },
     "execution_count": 7,
     "metadata": {},
     "output_type": "execute_result"
    }
   ],
   "source": [
    "list(multi_mat_file_dict['taotie'].values())[0]"
   ]
  },
  {
   "cell_type": "code",
   "execution_count": 8,
   "metadata": {},
   "outputs": [
    {
     "data": {
      "text/plain": [
       "[0,\n",
       " 1,\n",
       " 2,\n",
       " 3,\n",
       " 4,\n",
       " 5,\n",
       " 6,\n",
       " 7,\n",
       " 8,\n",
       " 9,\n",
       " 10,\n",
       " 11,\n",
       " 12,\n",
       " 13,\n",
       " 14,\n",
       " 15,\n",
       " 16,\n",
       " 17,\n",
       " 18,\n",
       " 19,\n",
       " 20,\n",
       " 21,\n",
       " 22,\n",
       " 23,\n",
       " 24,\n",
       " 25,\n",
       " 26,\n",
       " 27,\n",
       " 28,\n",
       " 29,\n",
       " 30,\n",
       " 31,\n",
       " 32,\n",
       " 33,\n",
       " 34,\n",
       " 35,\n",
       " 36,\n",
       " 37,\n",
       " 38,\n",
       " 39,\n",
       " 40,\n",
       " 41,\n",
       " 42,\n",
       " 43,\n",
       " 44,\n",
       " 45,\n",
       " 46,\n",
       " 47,\n",
       " 48,\n",
       " 49,\n",
       " 50,\n",
       " 51,\n",
       " 52,\n",
       " 53,\n",
       " 54,\n",
       " 55,\n",
       " 56,\n",
       " 57,\n",
       " 58,\n",
       " 59,\n",
       " 60,\n",
       " 61,\n",
       " 62,\n",
       " 63,\n",
       " 64,\n",
       " 65,\n",
       " 66,\n",
       " 67,\n",
       " 68,\n",
       " 69,\n",
       " 70,\n",
       " 71,\n",
       " 72,\n",
       " 73,\n",
       " 74,\n",
       " 75,\n",
       " 76,\n",
       " 77,\n",
       " 78,\n",
       " 79,\n",
       " 80,\n",
       " 81,\n",
       " 82,\n",
       " 83,\n",
       " 84,\n",
       " 85,\n",
       " 86,\n",
       " 87,\n",
       " 88,\n",
       " 89,\n",
       " 90,\n",
       " 91,\n",
       " 92,\n",
       " 93,\n",
       " 94,\n",
       " 95,\n",
       " 96,\n",
       " 97,\n",
       " 98,\n",
       " 99,\n",
       " 100,\n",
       " 101,\n",
       " 102,\n",
       " 103,\n",
       " 104,\n",
       " 105,\n",
       " 106,\n",
       " 107,\n",
       " 108,\n",
       " 109,\n",
       " 110,\n",
       " 111,\n",
       " 112,\n",
       " 113,\n",
       " 114,\n",
       " 115,\n",
       " 116,\n",
       " 117,\n",
       " 118,\n",
       " 119,\n",
       " 120,\n",
       " 121,\n",
       " 122,\n",
       " 123,\n",
       " 124,\n",
       " 125,\n",
       " 126,\n",
       " 127,\n",
       " 128,\n",
       " 129,\n",
       " 130,\n",
       " 131,\n",
       " 132,\n",
       " 133,\n",
       " 134,\n",
       " 135,\n",
       " 136,\n",
       " 137,\n",
       " 138,\n",
       " 139,\n",
       " 140,\n",
       " 141,\n",
       " 142,\n",
       " 143,\n",
       " 144,\n",
       " 145,\n",
       " 146,\n",
       " 147,\n",
       " 148,\n",
       " 149,\n",
       " 150,\n",
       " 151,\n",
       " 152,\n",
       " 153,\n",
       " 154,\n",
       " 155,\n",
       " 156,\n",
       " 157,\n",
       " 158,\n",
       " 159,\n",
       " 160,\n",
       " 161,\n",
       " 162,\n",
       " 163,\n",
       " 164,\n",
       " 165,\n",
       " 166,\n",
       " 167,\n",
       " 168,\n",
       " 169,\n",
       " 170,\n",
       " 171,\n",
       " 172,\n",
       " 173,\n",
       " 174,\n",
       " 175,\n",
       " 176,\n",
       " 177,\n",
       " 178,\n",
       " 179,\n",
       " 180,\n",
       " 181,\n",
       " 182,\n",
       " 183,\n",
       " 184,\n",
       " 185,\n",
       " 186,\n",
       " 187,\n",
       " 188,\n",
       " 189,\n",
       " 190,\n",
       " 191,\n",
       " 192,\n",
       " 193,\n",
       " 194,\n",
       " 195,\n",
       " 196,\n",
       " 197,\n",
       " 198,\n",
       " 199,\n",
       " 200,\n",
       " 201,\n",
       " 202,\n",
       " 203,\n",
       " 204,\n",
       " 205,\n",
       " 206,\n",
       " 207,\n",
       " 208,\n",
       " 209,\n",
       " 210,\n",
       " 211,\n",
       " 212,\n",
       " 213,\n",
       " 214,\n",
       " 215,\n",
       " 216,\n",
       " 217,\n",
       " 218,\n",
       " 219,\n",
       " 220,\n",
       " 221,\n",
       " 222,\n",
       " 223,\n",
       " 224,\n",
       " 225,\n",
       " 226,\n",
       " 227,\n",
       " 228,\n",
       " 229,\n",
       " 230,\n",
       " 231,\n",
       " 232,\n",
       " 233,\n",
       " 234,\n",
       " 235,\n",
       " 236,\n",
       " 237,\n",
       " 238,\n",
       " 239,\n",
       " 240,\n",
       " 241,\n",
       " 242,\n",
       " 243,\n",
       " 244,\n",
       " 245,\n",
       " 246,\n",
       " 247,\n",
       " 248,\n",
       " 249,\n",
       " 250,\n",
       " 251,\n",
       " 252,\n",
       " 253,\n",
       " 254,\n",
       " 255,\n",
       " 256,\n",
       " 257,\n",
       " 258,\n",
       " 259,\n",
       " 260,\n",
       " 261,\n",
       " 262,\n",
       " 263,\n",
       " 264,\n",
       " 265,\n",
       " 266,\n",
       " 267,\n",
       " 268,\n",
       " 269,\n",
       " 270,\n",
       " 271,\n",
       " 272,\n",
       " 273,\n",
       " 274,\n",
       " 275,\n",
       " 276,\n",
       " 277,\n",
       " 278,\n",
       " 279,\n",
       " 280,\n",
       " 281,\n",
       " 282,\n",
       " 283,\n",
       " 284,\n",
       " 285,\n",
       " 286,\n",
       " 287,\n",
       " 288,\n",
       " 289,\n",
       " 290,\n",
       " 291,\n",
       " 292,\n",
       " 293,\n",
       " 294,\n",
       " 295,\n",
       " 296,\n",
       " 297,\n",
       " 298,\n",
       " 299]"
      ]
     },
     "execution_count": 8,
     "metadata": {},
     "output_type": "execute_result"
    }
   ],
   "source": [
    "list(range(0,300))"
   ]
  },
  {
   "cell_type": "code",
   "execution_count": 10,
   "metadata": {},
   "outputs": [
    {
     "data": {
      "text/plain": [
       "dict_keys(['3', 'books1', 'books2', 'central.001', 'central_2', 'chinabox', 'dogs', 'fruit1', 'fruit3', 'mountain', 'neclace', 'neclace_china', 'righthand_cups', 'statement', 'taotie'])"
      ]
     },
     "execution_count": 10,
     "metadata": {},
     "output_type": "execute_result"
    }
   ],
   "source": [
    "multi_obj_ls=json.load(open('./multi_mat_obj.json','r'))\n",
    "multi_obj_ls.keys()"
   ]
  },
  {
   "cell_type": "code",
   "execution_count": 12,
   "metadata": {},
   "outputs": [
    {
     "data": {
      "text/plain": [
       "[0, 1, 2, 3, 4]"
      ]
     },
     "execution_count": 12,
     "metadata": {},
     "output_type": "execute_result"
    }
   ],
   "source": [
    "list(range(0,5))"
   ]
  },
  {
   "cell_type": "code",
   "execution_count": 13,
   "metadata": {},
   "outputs": [],
   "source": [
    "import cv2"
   ]
  },
  {
   "cell_type": "code",
   "execution_count": 37,
   "metadata": {},
   "outputs": [
    {
     "data": {
      "text/plain": [
       "'12_22'"
      ]
     },
     "execution_count": 37,
     "metadata": {},
     "output_type": "execute_result"
    }
   ],
   "source": []
  },
  {
   "cell_type": "code",
   "execution_count": 26,
   "metadata": {},
   "outputs": [
    {
     "name": "stdout",
     "output_type": "stream",
     "text": [
      "['0910000032471600422.png', '015203003313001152412.png', '11010110031130552821.png', '0bb19db2hgbie0aaaaa1dda#0c0ceececdcaa#1bc0a#0hc4cbb1a2aaaa0e0b.png', '01220210430100642521.png', '#21ajb#######1ag7c0dia9a4eca0c1bbcac1b#.png', '0ab11gga#0aaaaa2ba#0d2bcede2a##0gda6a3bd##1i#.png', '#13a2jdhif#0db#0c3babbaaaac2c0db5f0hca9a0aaa#4ah2c1aaaa.png', '#9a2ceefi#0ca#0e1ehg0a4bch2b#8a1abaa0a1cbcba2b#.png', '0910000333281521622.png', '12420000032480700232.png', '01310001332301740031.png', '0cb22edc##2ac0a#0fjaccdedcc2a3aab1c0cba4if4aaa0c4da2a1daaa.png', '#4h1a#1cda0a#2aceae2a4ace6b#2aab2ddbde0b5heh2c#.png', '0bc8a0a##0a0d2dcedd1j#4h#7a##5ibi##.png', '124002010315611142112.png', '024402110304411000712.png', '08302102331311161331.png', '024002004334311010930.png', '15101014325511062501.png', '0ca###2ab0c0d3baabaaaba#1fh2h0fba0hh3bg0b8bbabab#0b.png', '1810000033280231201.png', '#2b#0aaaaa2bc##1abe#4ada1c0jaa10a1baaa1a4aj2a1eaaa.png', '11020000431011132122.png', '0630110030450210811.png', '#22ecc3ab##0c##0a1gg5h0gfa4mk5bb1a#1h#.png', '0920100033320241902.png', '11640110133061712020.png', '##0a###0b1ehd0a1fi7c#10a1abaa0a7babeacg#1daaa.png', '01200200232411141522.png', '##1c#2ca0b#2aedde1e2jcd5i#2aaa5bb1a6bg1h0b.png', '0bc2d1b0aaaaa0df##3abbabaabc#1eh4a0gfa3aaaaa1baaa1a0cabbaa##.png', '11940001231451312210.png', '#7b2ecejh0aaaaa0db#0d1agc0a0cb4a0gea6a2deaac1a7dbbecag0d1daaa.png', '#1g2dbgdi0aaaaa2ac#0e3ababaaaab0a#6j#3baaaa1abaa0c0bcabca1j#.png', '0bb16b1b#0de#0d2bebcb1h4baa0a0bga4lb0baa#6ff1j#.png', '#18eaaa2hbcac0aaaaa1eeb0a0a2ecbbd1f2hej3h0jha1aaeba4dbc#4if0d1eaaa.png', '0740200430030322200.png', '01200211431060651130.png', '0aa22acb2addda#1eab0a0e2cecbc1g2bgc6a#6a1baaa#8dcbdab0h1daaa.png', '#10c1c0aaaaa1ccc#0c0hcgjedecbe1i3ebb4g0cea9a##8dabcdb0c0c.png', '0800100030021340610.png', '0aa15j##1bbc#0c3babbaaabc1e1af2e#10a5ac#8bbaaeb2b#.png', '11030201131280501301.png', '0ac15b0a0aaaaa#0c#2eadaa0a4aaa1c0gea4ng3cg1a5bib2b1aaaa.png', '#18eaaa1b0aaaaa2bc0a0c3abbabaabc0a#6b#10a3ba1a4jf0e1daaa.png', '0bb8a0a0aaaaa0be###0a4deg##10a3ae1a4bg1g#.png', '02010001031240952712.png', '#14c1b0aaaaa1cab0a0e2cacdc1i2jhf2k#7a4cba0a2aaaa0a0c.png', '124102100311111060811.png']\n"
     ]
    }
   ],
   "source": [
    "\n",
    "import PIL.Image as im\n",
    "import os\n",
    "import math\n",
    "import datetime\n",
    "date=datetime.date.today().strftime(\"%m_%d\").__str__()\n",
    "pic_all_dir='./results'\n",
    "joint_pic_dir='./joint_results'\n",
    "pic_path_ls=os.listdir(dir)\n",
    "try:\n",
    "    pic_path_ls.remove('.DS_Store')\n",
    "except:\n",
    "    pass\n",
    "\n",
    "bg=im.new(mode='RGB',size=(1300*5,1300*math.ceil((len(pic_path_ls)//5))),color=(0,0,0))\n",
    "for count,pic_path in enumerate(pic_path_ls):\n",
    "    pic=im.open(os.path.join(pic_all_dir,pic_path)).resize((1280,1280),im.ANTIALIAS)\n",
    "    bg.paste(pic,(1300*(count%5),1300*(count//5)))\n",
    "while True:\n",
    "    num=0\n",
    "    save_path=os.path.join(joint_pic_dir,date+'_'+str(num)+'.jpg')\n",
    "    if os.path.exists(save_path):\n",
    "        num+=1\n",
    "    else:\n",
    "        bg.save(save_path)\n",
    "        break\n",
    "    "
   ]
  },
  {
   "cell_type": "code",
   "execution_count": 23,
   "metadata": {},
   "outputs": [
    {
     "data": {
      "text/plain": [
       "50"
      ]
     },
     "execution_count": 23,
     "metadata": {},
     "output_type": "execute_result"
    }
   ],
   "source": [
    "len(pic_path_ls)"
   ]
  },
  {
   "cell_type": "code",
   "execution_count": 24,
   "metadata": {},
   "outputs": [
    {
     "data": {
      "text/plain": [
       "2"
      ]
     },
     "execution_count": 24,
     "metadata": {},
     "output_type": "execute_result"
    }
   ],
   "source": [
    "11//5"
   ]
  },
  {
   "cell_type": "code",
   "execution_count": null,
   "metadata": {},
   "outputs": [],
   "source": []
  }
 ],
 "metadata": {
  "interpreter": {
   "hash": "aee8b7b246df8f9039afb4144a1f6fd8d2ca17a180786b69acc140d282b71a49"
  },
  "kernelspec": {
   "display_name": "Python 3.8.5 64-bit",
   "language": "python",
   "name": "python3"
  },
  "language_info": {
   "codemirror_mode": {
    "name": "ipython",
    "version": 3
   },
   "file_extension": ".py",
   "mimetype": "text/x-python",
   "name": "python",
   "nbconvert_exporter": "python",
   "pygments_lexer": "ipython3",
   "version": "3.8.5"
  },
  "orig_nbformat": 4
 },
 "nbformat": 4,
 "nbformat_minor": 2
}
